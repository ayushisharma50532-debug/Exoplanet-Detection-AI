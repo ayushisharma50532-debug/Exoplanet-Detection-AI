{
 "cells": [
  {
   "cell_type": "code",
   "execution_count": 1,
   "id": "a7dcc940",
   "metadata": {},
   "outputs": [
    {
     "name": "stdout",
     "output_type": "stream",
     "text": [
      "Confusion Matrix:\n",
      " [[3 1]\n",
      " [1 3]]\n",
      "\n",
      "Precision: 0.75\n",
      "Recall: 0.75\n",
      "F1 Score: 0.75\n"
     ]
    }
   ],
   "source": [
    "# Evaluation Metrics Notebook (Ayushi - Member 3) 🚀\n",
    "\n",
    "import numpy as np\n",
    "from sklearn.metrics import confusion_matrix, precision_score, recall_score, f1_score\n",
    "\n",
    "# Example: true labels (from dataset) vs predictions (from model)\n",
    "y_true = [1, 0, 1, 1, 0, 0, 1, 0]   # Ground truth (actual)\n",
    "y_pred = [1, 0, 0, 1, 0, 1, 1, 0]   # Model predictions\n",
    "\n",
    "# Confusion Matrix\n",
    "cm = confusion_matrix(y_true, y_pred)\n",
    "print(\"Confusion Matrix:\\n\", cm)\n",
    "\n",
    "# Precision, Recall, F1\n",
    "precision = precision_score(y_true, y_pred)\n",
    "recall = recall_score(y_true, y_pred)\n",
    "f1 = f1_score(y_true, y_pred)\n",
    "\n",
    "print(\"\\nPrecision:\", precision)\n",
    "print(\"Recall:\", recall)\n",
    "print(\"F1 Score:\", f1)\n"
   ]
  }
 ],
 "metadata": {
  "kernelspec": {
   "display_name": "Python 3",
   "language": "python",
   "name": "python3"
  },
  "language_info": {
   "codemirror_mode": {
    "name": "ipython",
    "version": 3
   },
   "file_extension": ".py",
   "mimetype": "text/x-python",
   "name": "python",
   "nbconvert_exporter": "python",
   "pygments_lexer": "ipython3",
   "version": "3.12.1"
  }
 },
 "nbformat": 4,
 "nbformat_minor": 5
}
